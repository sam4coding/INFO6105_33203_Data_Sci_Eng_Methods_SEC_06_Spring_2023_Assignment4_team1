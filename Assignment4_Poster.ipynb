{
 "cells": [
  {
   "cell_type": "code",
   "execution_count": null,
   "id": "3d780b77",
   "metadata": {},
   "outputs": [],
   "source": [
    "img1 = cv2.imread('/Users/shalomdaniel/Downloads/PXL_20230201_155137796_2.jpg')\n",
    "img2 = cv2.imread('/Users/shalomdaniel/Downloads/PXL_20230201_161035911_3.jpg')\n",
    "\n",
    "# define a function for vertically \n",
    "# concatenating images of different\n",
    "# widths \n",
    "def vconcat_resize(img_list, interpolation \n",
    "                   = cv2.INTER_CUBIC):\n",
    "      # take minimum width\n",
    "    w_min = min(img.shape[1] \n",
    "                for img in img_list)\n",
    "      \n",
    "    # resizing images\n",
    "    im_list_resize = [cv2.resize(img,\n",
    "                      (w_min, int(img.shape[0] * w_min / img.shape[1])),\n",
    "                                 interpolation = interpolation)\n",
    "                      for img in img_list]\n",
    "    # return final image\n",
    "    return cv2.vconcat(im_list_resize)\n",
    "  \n",
    "# function calling\n",
    "img_v_resize = vconcat_resize([img1, img2])\n",
    "  \n",
    "# show the output image\n",
    "cv2.imwrite('/Users/shalomdaniel/Downloads/poster.jpg', img_v_resize)"
   ]
  }
 ],
 "metadata": {
  "kernelspec": {
   "display_name": "Python 3 (ipykernel)",
   "language": "python",
   "name": "python3"
  },
  "language_info": {
   "codemirror_mode": {
    "name": "ipython",
    "version": 3
   },
   "file_extension": ".py",
   "mimetype": "text/x-python",
   "name": "python",
   "nbconvert_exporter": "python",
   "pygments_lexer": "ipython3",
   "version": "3.9.12"
  }
 },
 "nbformat": 4,
 "nbformat_minor": 5
}
